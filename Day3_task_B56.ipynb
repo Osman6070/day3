{
 "cells": [
  {
   "cell_type": "code",
   "execution_count": null,
   "id": "55952ac2",
   "metadata": {},
   "outputs": [],
   "source": [
    "Introduction to string Methods"
   ]
  },
  {
   "cell_type": "code",
   "execution_count": 1,
   "id": "ddf7ba28",
   "metadata": {},
   "outputs": [
    {
     "name": "stdout",
     "output_type": "stream",
     "text": [
      "Karthik\n"
     ]
    }
   ],
   "source": [
    "name=\"Karthik\"\n",
    "print (name)"
   ]
  },
  {
   "cell_type": "code",
   "execution_count": 2,
   "id": "28d47b55",
   "metadata": {},
   "outputs": [
    {
     "data": {
      "text/plain": [
       "str"
      ]
     },
     "execution_count": 2,
     "metadata": {},
     "output_type": "execute_result"
    }
   ],
   "source": [
    "type(name)"
   ]
  },
  {
   "cell_type": "code",
   "execution_count": 3,
   "id": "7e85c4d6",
   "metadata": {},
   "outputs": [
    {
     "name": "stdout",
     "output_type": "stream",
     "text": [
      "apple\n"
     ]
    }
   ],
   "source": [
    "fruit =\"apple\"\n",
    "print (fruit)"
   ]
  },
  {
   "cell_type": "code",
   "execution_count": 4,
   "id": "df04e88e",
   "metadata": {},
   "outputs": [
    {
     "ename": "SyntaxError",
     "evalue": "invalid syntax (Temp/ipykernel_21604/937944781.py, line 1)",
     "output_type": "error",
     "traceback": [
      "\u001b[1;36m  File \u001b[1;32m\"C:\\Users\\dell\\AppData\\Local\\Temp/ipykernel_21604/937944781.py\"\u001b[1;36m, line \u001b[1;32m1\u001b[0m\n\u001b[1;33m    type (name)\"\"\u001b[0m\n\u001b[1;37m               ^\u001b[0m\n\u001b[1;31mSyntaxError\u001b[0m\u001b[1;31m:\u001b[0m invalid syntax\n"
     ]
    }
   ],
   "source": [
    "type (name)\"\""
   ]
  },
  {
   "cell_type": "code",
   "execution_count": 5,
   "id": "e36cd905",
   "metadata": {},
   "outputs": [
    {
     "data": {
      "text/plain": [
       "str"
      ]
     },
     "execution_count": 5,
     "metadata": {},
     "output_type": "execute_result"
    }
   ],
   "source": [
    "type (name)"
   ]
  },
  {
   "cell_type": "code",
   "execution_count": 6,
   "id": "e05be626",
   "metadata": {},
   "outputs": [
    {
     "name": "stdout",
     "output_type": "stream",
     "text": [
      "shiva prasad\n"
     ]
    }
   ],
   "source": [
    "Full_name =\"shiva prasad\"\n",
    "print (Full_name)"
   ]
  },
  {
   "cell_type": "code",
   "execution_count": 7,
   "id": "9752c61b",
   "metadata": {},
   "outputs": [
    {
     "name": "stdout",
     "output_type": "stream",
     "text": [
      "Shiva Prasad\n"
     ]
    }
   ],
   "source": [
    "print (Full_name.title())"
   ]
  },
  {
   "cell_type": "code",
   "execution_count": null,
   "id": "ef484e13",
   "metadata": {},
   "outputs": [],
   "source": [
    "# req i want to have the full name in capital letters"
   ]
  },
  {
   "cell_type": "code",
   "execution_count": 8,
   "id": "704a1a5d",
   "metadata": {},
   "outputs": [
    {
     "name": "stdout",
     "output_type": "stream",
     "text": [
      "SHIVA PRASAD\n"
     ]
    }
   ],
   "source": [
    "print (Full_name.upper())"
   ]
  },
  {
   "cell_type": "code",
   "execution_count": 9,
   "id": "2bc73150",
   "metadata": {},
   "outputs": [
    {
     "name": "stdout",
     "output_type": "stream",
     "text": [
      "shiva prasad\n"
     ]
    }
   ],
   "source": [
    "print(Full_name.lower())"
   ]
  },
  {
   "cell_type": "code",
   "execution_count": null,
   "id": "752767fe",
   "metadata": {},
   "outputs": [],
   "source": [
    "Introdution to f strings"
   ]
  },
  {
   "cell_type": "code",
   "execution_count": null,
   "id": "cde6a490",
   "metadata": {},
   "outputs": [],
   "source": [
    "# general syntax of the f strings"
   ]
  },
  {
   "cell_type": "code",
   "execution_count": null,
   "id": "189c3466",
   "metadata": {},
   "outputs": [],
   "source": [
    "f \"custom words {placeholder..1} \""
   ]
  },
  {
   "cell_type": "code",
   "execution_count": 10,
   "id": "887724a5",
   "metadata": {},
   "outputs": [],
   "source": [
    "firstname =\"simran\"\n",
    "lastname =\"patel\""
   ]
  },
  {
   "cell_type": "code",
   "execution_count": null,
   "id": "8dd21b21",
   "metadata": {},
   "outputs": [],
   "source": [
    "# req i want to get the full name..?\n",
    "\n"
   ]
  },
  {
   "cell_type": "code",
   "execution_count": 11,
   "id": "d45f1473",
   "metadata": {},
   "outputs": [
    {
     "ename": "SyntaxError",
     "evalue": "invalid syntax (Temp/ipykernel_21604/2898368053.py, line 1)",
     "output_type": "error",
     "traceback": [
      "\u001b[1;36m  File \u001b[1;32m\"C:\\Users\\dell\\AppData\\Local\\Temp/ipykernel_21604/2898368053.py\"\u001b[1;36m, line \u001b[1;32m1\u001b[0m\n\u001b[1;33m    Full_name= f \"{firstname} {lastname}\"\u001b[0m\n\u001b[1;37m                 ^\u001b[0m\n\u001b[1;31mSyntaxError\u001b[0m\u001b[1;31m:\u001b[0m invalid syntax\n"
     ]
    }
   ],
   "source": [
    "Full_name= f \"{firstname} {lastname}\"\n",
    "print (Full_name)"
   ]
  },
  {
   "cell_type": "code",
   "execution_count": 12,
   "id": "8ee2e742",
   "metadata": {},
   "outputs": [
    {
     "ename": "SyntaxError",
     "evalue": "invalid syntax (Temp/ipykernel_21604/2855568677.py, line 1)",
     "output_type": "error",
     "traceback": [
      "\u001b[1;36m  File \u001b[1;32m\"C:\\Users\\dell\\AppData\\Local\\Temp/ipykernel_21604/2855568677.py\"\u001b[1;36m, line \u001b[1;32m1\u001b[0m\n\u001b[1;33m    Full_name = f \"{firstname} {lastname}\"\u001b[0m\n\u001b[1;37m                  ^\u001b[0m\n\u001b[1;31mSyntaxError\u001b[0m\u001b[1;31m:\u001b[0m invalid syntax\n"
     ]
    }
   ],
   "source": [
    "Full_name = f \"{firstname} {lastname}\"\n",
    "print (Full_name)"
   ]
  },
  {
   "cell_type": "code",
   "execution_count": 1,
   "id": "715abba9",
   "metadata": {},
   "outputs": [
    {
     "ename": "NameError",
     "evalue": "name 'firstname' is not defined",
     "output_type": "error",
     "traceback": [
      "\u001b[1;31m---------------------------------------------------------------------------\u001b[0m",
      "\u001b[1;31mNameError\u001b[0m                                 Traceback (most recent call last)",
      "\u001b[1;32m~\\AppData\\Local\\Temp/ipykernel_6180/2235284932.py\u001b[0m in \u001b[0;36m<module>\u001b[1;34m\u001b[0m\n\u001b[1;32m----> 1\u001b[1;33m \u001b[0mfull_name\u001b[0m \u001b[1;33m=\u001b[0m \u001b[1;34mf\" {firstname} {lastname}\"\u001b[0m\u001b[1;33m\u001b[0m\u001b[1;33m\u001b[0m\u001b[0m\n\u001b[0m\u001b[0;32m      2\u001b[0m \u001b[0mprint\u001b[0m \u001b[1;33m(\u001b[0m\u001b[0mfull_name\u001b[0m\u001b[1;33m)\u001b[0m\u001b[1;33m\u001b[0m\u001b[1;33m\u001b[0m\u001b[0m\n",
      "\u001b[1;31mNameError\u001b[0m: name 'firstname' is not defined"
     ]
    }
   ],
   "source": [
    "full_name = f\" {firstname} {lastname}\"\n",
    "print (full_name)"
   ]
  },
  {
   "cell_type": "code",
   "execution_count": 2,
   "id": "32681c08",
   "metadata": {},
   "outputs": [
    {
     "name": "stdout",
     "output_type": "stream",
     "text": [
      "simran\n"
     ]
    }
   ],
   "source": [
    "firstname =\"simran\"\n",
    "lastname =\"patel\"\n",
    "print (firstname)"
   ]
  },
  {
   "cell_type": "code",
   "execution_count": 3,
   "id": "37e2c8de",
   "metadata": {},
   "outputs": [
    {
     "name": "stdout",
     "output_type": "stream",
     "text": [
      "patel\n"
     ]
    }
   ],
   "source": [
    "print (lastname)"
   ]
  },
  {
   "cell_type": "code",
   "execution_count": 4,
   "id": "c8b450c1",
   "metadata": {},
   "outputs": [
    {
     "ename": "SyntaxError",
     "evalue": "invalid syntax (Temp/ipykernel_6180/1899599594.py, line 1)",
     "output_type": "error",
     "traceback": [
      "\u001b[1;36m  File \u001b[1;32m\"C:\\Users\\dell\\AppData\\Local\\Temp/ipykernel_6180/1899599594.py\"\u001b[1;36m, line \u001b[1;32m1\u001b[0m\n\u001b[1;33m    full name = f\"{firstname} {lastname}\"\u001b[0m\n\u001b[1;37m         ^\u001b[0m\n\u001b[1;31mSyntaxError\u001b[0m\u001b[1;31m:\u001b[0m invalid syntax\n"
     ]
    }
   ],
   "source": [
    "full name = f\"{firstname} {lastname}\"\n",
    "print (full name)"
   ]
  },
  {
   "cell_type": "code",
   "execution_count": 5,
   "id": "0c4dd0ab",
   "metadata": {},
   "outputs": [
    {
     "ename": "NameError",
     "evalue": "name 'full_name' is not defined",
     "output_type": "error",
     "traceback": [
      "\u001b[1;31m---------------------------------------------------------------------------\u001b[0m",
      "\u001b[1;31mNameError\u001b[0m                                 Traceback (most recent call last)",
      "\u001b[1;32m~\\AppData\\Local\\Temp/ipykernel_6180/3877000585.py\u001b[0m in \u001b[0;36m<module>\u001b[1;34m\u001b[0m\n\u001b[1;32m----> 1\u001b[1;33m \u001b[0mprint\u001b[0m\u001b[1;33m(\u001b[0m\u001b[0mfull_name\u001b[0m\u001b[1;33m.\u001b[0m\u001b[0mtitle\u001b[0m\u001b[1;33m(\u001b[0m\u001b[1;33m)\u001b[0m\u001b[1;33m)\u001b[0m\u001b[1;33m\u001b[0m\u001b[1;33m\u001b[0m\u001b[0m\n\u001b[0m",
      "\u001b[1;31mNameError\u001b[0m: name 'full_name' is not defined"
     ]
    }
   ],
   "source": [
    "print(full_name.title())"
   ]
  },
  {
   "cell_type": "code",
   "execution_count": 6,
   "id": "bf9865ab",
   "metadata": {},
   "outputs": [
    {
     "name": "stdout",
     "output_type": "stream",
     "text": [
      "simranpatel\n"
     ]
    }
   ],
   "source": [
    "full_name = f\"{firstname}{lastname}\"\n",
    "print (full_name)"
   ]
  },
  {
   "cell_type": "code",
   "execution_count": 7,
   "id": "895c529c",
   "metadata": {},
   "outputs": [
    {
     "name": "stdout",
     "output_type": "stream",
     "text": [
      "Simranpatel\n"
     ]
    }
   ],
   "source": [
    "print (full_name.title())"
   ]
  },
  {
   "cell_type": "code",
   "execution_count": 8,
   "id": "d81183ee",
   "metadata": {},
   "outputs": [
    {
     "name": "stdout",
     "output_type": "stream",
     "text": [
      "Keep up the goodwork,Simranpatel\n"
     ]
    }
   ],
   "source": [
    "print(f\"Keep up the goodwork,{full_name.title()}\")"
   ]
  },
  {
   "cell_type": "code",
   "execution_count": null,
   "id": "217d0872",
   "metadata": {},
   "outputs": [],
   "source": [
    "#adding white spaces to the strings "
   ]
  },
  {
   "cell_type": "code",
   "execution_count": 9,
   "id": "d64d3894",
   "metadata": {},
   "outputs": [
    {
     "name": "stdout",
     "output_type": "stream",
     "text": [
      "favorite_language:python c++ java c swift cobol\n"
     ]
    }
   ],
   "source": [
    "print (\"favorite_language:python c++ java c swift cobol\")"
   ]
  },
  {
   "cell_type": "code",
   "execution_count": null,
   "id": "603e96ef",
   "metadata": {},
   "outputs": [],
   "source": [
    "\\n new line delimiter"
   ]
  },
  {
   "cell_type": "code",
   "execution_count": 10,
   "id": "af732951",
   "metadata": {},
   "outputs": [
    {
     "name": "stdout",
     "output_type": "stream",
     "text": [
      "favorite_language:\n",
      " python \n",
      " c++ \n",
      " java \n",
      " c \n",
      " swift \n",
      " cobol\n"
     ]
    }
   ],
   "source": [
    "print (\"favorite_language:\\n python \\n c++ \\n java \\n c \\n swift \\n cobol\")"
   ]
  },
  {
   "cell_type": "code",
   "execution_count": null,
   "id": "35752e47",
   "metadata": {},
   "outputs": [],
   "source": [
    "\\t it is called as tab delimiter"
   ]
  },
  {
   "cell_type": "code",
   "execution_count": 11,
   "id": "76705479",
   "metadata": {},
   "outputs": [
    {
     "name": "stdout",
     "output_type": "stream",
     "text": [
      "favorite_language:\n",
      "\t python \n",
      "\t c++ \n",
      "\t java \n",
      "\t c \n",
      "\t swift \n",
      "\t cobol\n"
     ]
    }
   ],
   "source": [
    "print (\"favorite_language:\\n\\t python \\n\\t c++ \\n\\t java \\n\\t c \\n\\t swift \\n\\t cobol\")"
   ]
  },
  {
   "cell_type": "code",
   "execution_count": 12,
   "id": "205dbeb2",
   "metadata": {},
   "outputs": [],
   "source": [
    "# removing white spaces from strings"
   ]
  },
  {
   "cell_type": "markdown",
   "id": "3b3e061e",
   "metadata": {},
   "source": []
  },
  {
   "cell_type": "code",
   "execution_count": 13,
   "id": "299012d4",
   "metadata": {},
   "outputs": [
    {
     "name": "stdout",
     "output_type": "stream",
     "text": [
      "python\n"
     ]
    }
   ],
   "source": [
    "name = 'python'\n",
    "print (name)"
   ]
  },
  {
   "cell_type": "code",
   "execution_count": 14,
   "id": "ef8f22fc",
   "metadata": {},
   "outputs": [
    {
     "name": "stdout",
     "output_type": "stream",
     "text": [
      " python\n"
     ]
    }
   ],
   "source": [
    "name2 =\" python\"\n",
    "print (name2)"
   ]
  },
  {
   "cell_type": "code",
   "execution_count": 15,
   "id": "a26fa17d",
   "metadata": {},
   "outputs": [
    {
     "name": "stdout",
     "output_type": "stream",
     "text": [
      "python \n"
     ]
    }
   ],
   "source": [
    "name3 = \"python \"\n",
    "print (name3)"
   ]
  },
  {
   "cell_type": "code",
   "execution_count": 16,
   "id": "ee72322f",
   "metadata": {},
   "outputs": [
    {
     "data": {
      "text/plain": [
       "'python'"
      ]
     },
     "execution_count": 16,
     "metadata": {},
     "output_type": "execute_result"
    }
   ],
   "source": [
    "name2.strip()"
   ]
  },
  {
   "cell_type": "markdown",
   "id": "38bdd710",
   "metadata": {},
   "source": []
  },
  {
   "cell_type": "code",
   "execution_count": 17,
   "id": "8a049b0d",
   "metadata": {},
   "outputs": [
    {
     "data": {
      "text/plain": [
       "'python'"
      ]
     },
     "execution_count": 17,
     "metadata": {},
     "output_type": "execute_result"
    }
   ],
   "source": [
    "name3.strip()"
   ]
  },
  {
   "cell_type": "code",
   "execution_count": null,
   "id": "2349fd6e",
   "metadata": {},
   "outputs": [],
   "source": []
  },
  {
   "cell_type": "code",
   "execution_count": null,
   "id": "40e943af",
   "metadata": {},
   "outputs": [],
   "source": []
  }
 ],
 "metadata": {
  "kernelspec": {
   "display_name": "Python 3 (ipykernel)",
   "language": "python",
   "name": "python3"
  },
  "language_info": {
   "codemirror_mode": {
    "name": "ipython",
    "version": 3
   },
   "file_extension": ".py",
   "mimetype": "text/x-python",
   "name": "python",
   "nbconvert_exporter": "python",
   "pygments_lexer": "ipython3",
   "version": "3.9.7"
  }
 },
 "nbformat": 4,
 "nbformat_minor": 5
}
